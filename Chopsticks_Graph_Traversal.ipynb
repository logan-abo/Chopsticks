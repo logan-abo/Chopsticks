{
  "nbformat": 4,
  "nbformat_minor": 0,
  "metadata": {
    "colab": {
      "provenance": [],
      "collapsed_sections": [
        "Ti5cCUQ5uh_K",
        "8rMhBkGjunkp",
        "7be7uR7Vurgp",
        "Oe3uemuAuukN",
        "TFegsnCYu0dI"
      ]
    },
    "kernelspec": {
      "name": "python3",
      "display_name": "Python 3"
    },
    "language_info": {
      "name": "python"
    }
  },
  "cells": [
    {
      "cell_type": "markdown",
      "source": [
        "##SET-UP"
      ],
      "metadata": {
        "id": "0Z4Rpyb8ueRK"
      }
    },
    {
      "cell_type": "code",
      "source": [
        "!pip install pyvis"
      ],
      "metadata": {
        "id": "H_Y7RzTbfqOu",
        "collapsed": true,
        "colab": {
          "base_uri": "https://localhost:8080/"
        },
        "outputId": "0550468a-f802-45d3-d200-e83547ffb686"
      },
      "execution_count": 84,
      "outputs": [
        {
          "output_type": "stream",
          "name": "stdout",
          "text": [
            "Requirement already satisfied: pyvis in /usr/local/lib/python3.12/dist-packages (0.3.2)\n",
            "Requirement already satisfied: ipython>=5.3.0 in /usr/local/lib/python3.12/dist-packages (from pyvis) (7.34.0)\n",
            "Requirement already satisfied: jinja2>=2.9.6 in /usr/local/lib/python3.12/dist-packages (from pyvis) (3.1.6)\n",
            "Requirement already satisfied: jsonpickle>=1.4.1 in /usr/local/lib/python3.12/dist-packages (from pyvis) (4.1.1)\n",
            "Requirement already satisfied: networkx>=1.11 in /usr/local/lib/python3.12/dist-packages (from pyvis) (3.5)\n",
            "Requirement already satisfied: setuptools>=18.5 in /usr/local/lib/python3.12/dist-packages (from ipython>=5.3.0->pyvis) (75.2.0)\n",
            "Requirement already satisfied: jedi>=0.16 in /usr/local/lib/python3.12/dist-packages (from ipython>=5.3.0->pyvis) (0.19.2)\n",
            "Requirement already satisfied: decorator in /usr/local/lib/python3.12/dist-packages (from ipython>=5.3.0->pyvis) (4.4.2)\n",
            "Requirement already satisfied: pickleshare in /usr/local/lib/python3.12/dist-packages (from ipython>=5.3.0->pyvis) (0.7.5)\n",
            "Requirement already satisfied: traitlets>=4.2 in /usr/local/lib/python3.12/dist-packages (from ipython>=5.3.0->pyvis) (5.7.1)\n",
            "Requirement already satisfied: prompt-toolkit!=3.0.0,!=3.0.1,<3.1.0,>=2.0.0 in /usr/local/lib/python3.12/dist-packages (from ipython>=5.3.0->pyvis) (3.0.52)\n",
            "Requirement already satisfied: pygments in /usr/local/lib/python3.12/dist-packages (from ipython>=5.3.0->pyvis) (2.19.2)\n",
            "Requirement already satisfied: backcall in /usr/local/lib/python3.12/dist-packages (from ipython>=5.3.0->pyvis) (0.2.0)\n",
            "Requirement already satisfied: matplotlib-inline in /usr/local/lib/python3.12/dist-packages (from ipython>=5.3.0->pyvis) (0.1.7)\n",
            "Requirement already satisfied: pexpect>4.3 in /usr/local/lib/python3.12/dist-packages (from ipython>=5.3.0->pyvis) (4.9.0)\n",
            "Requirement already satisfied: MarkupSafe>=2.0 in /usr/local/lib/python3.12/dist-packages (from jinja2>=2.9.6->pyvis) (3.0.2)\n",
            "Requirement already satisfied: parso<0.9.0,>=0.8.4 in /usr/local/lib/python3.12/dist-packages (from jedi>=0.16->ipython>=5.3.0->pyvis) (0.8.5)\n",
            "Requirement already satisfied: ptyprocess>=0.5 in /usr/local/lib/python3.12/dist-packages (from pexpect>4.3->ipython>=5.3.0->pyvis) (0.7.0)\n",
            "Requirement already satisfied: wcwidth in /usr/local/lib/python3.12/dist-packages (from prompt-toolkit!=3.0.0,!=3.0.1,<3.1.0,>=2.0.0->ipython>=5.3.0->pyvis) (0.2.13)\n"
          ]
        }
      ]
    },
    {
      "cell_type": "code",
      "execution_count": 85,
      "metadata": {
        "id": "Mb18pKc0NUow"
      },
      "outputs": [],
      "source": [
        "import math\n",
        "\n",
        "\n",
        "import networkx as nx\n",
        "\n",
        "from pyvis.network import Network\n",
        "\n",
        "\n",
        "import matplotlib.pyplot as plt\n",
        "\n",
        "import matplotlib.cm as cm\n",
        "import matplotlib.colors as mcolors"
      ]
    },
    {
      "cell_type": "code",
      "source": [
        "G = nx.DiGraph()"
      ],
      "metadata": {
        "id": "OgdQuhQROHXx"
      },
      "execution_count": 86,
      "outputs": []
    },
    {
      "cell_type": "code",
      "source": [
        "MOD = 5\n",
        "\n",
        "tie_state = ( (0, 0), (0, 0), 0.5 )\n",
        "\n",
        "end_states = set( tie_state )\n",
        "\n",
        "end_values = {}\n",
        "end_values[ tie_state ] = 0.5\n",
        "\n",
        "visited = set()\n",
        "unreachable = set()\n",
        "cycles = [ [] ]\n",
        "\n",
        "loop_edges = set()\n",
        "loop_paths = set()\n",
        "all_paths = set()\n",
        "\n",
        "start_state = ( (1, 1), (1, 1), 0 )\n",
        "start_nodes = []\n",
        "start_path = []\n",
        "\n",
        "\n",
        "weight_color_map = {\n",
        "    0: 'blue',\n",
        "    0.5: 'white',\n",
        "    1: 'red'\n",
        "}"
      ],
      "metadata": {
        "id": "OMnnhopfNxox"
      },
      "execution_count": 87,
      "outputs": []
    },
    {
      "cell_type": "markdown",
      "source": [
        "## normalize(h1, h2):"
      ],
      "metadata": {
        "id": "Ti5cCUQ5uh_K"
      }
    },
    {
      "cell_type": "code",
      "source": [
        "def normalize(h1, h2):\n",
        "    \"\"\"\n",
        "    Normalize the representation of each player's hands by sorting.\n",
        "    This avoids distinguishing between (1,2) and (2,1) as different.\n",
        "    \"\"\"\n",
        "    return tuple(sorted(h1)), tuple(sorted(h2))"
      ],
      "metadata": {
        "id": "aFMEnMsTOe9h"
      },
      "execution_count": 88,
      "outputs": []
    },
    {
      "cell_type": "markdown",
      "source": [
        "## map_states( state, path_nodes, current_path )"
      ],
      "metadata": {
        "id": "8rMhBkGjunkp"
      }
    },
    {
      "cell_type": "code",
      "source": [
        "def map_states( current_state, path_nodes, include_cycles=False ):\n",
        "\n",
        "    path_nodes.append( current_state )\n",
        "\n",
        "    visited.add(current_state)\n",
        "    G.add_node(current_state)\n",
        "\n",
        "    next_states = get_next_states(current_state)\n",
        "\n",
        "    for state in next_states:\n",
        "\n",
        "        if state in path_nodes:\n",
        "\n",
        "            cycles.append( list(path_nodes[ path_nodes.index(state) : path_nodes.index(current_state) ]) )\n",
        "\n",
        "            if not include_cycles:\n",
        "                G.add_edge( current_state, (state[0], state[1], 0.5) )\n",
        "            else:\n",
        "                G.add_edge( current_state, state )\n",
        "\n",
        "        elif state in visited:\n",
        "\n",
        "            G.add_edge( current_state, state )\n",
        "\n",
        "\n",
        "        else:\n",
        "\n",
        "            G.add_edge( current_state, state )\n",
        "\n",
        "            # new_path = list( current_path + (current_state,state) )\n",
        "            # new_path_nodes = list(path_nodes) + list(state)\n",
        "\n",
        "            map_states( state, path_nodes )\n",
        "\n",
        "\n",
        "\n",
        "    if len( next_states ) == 0:\n",
        "        end_states.add(current_state)"
      ],
      "metadata": {
        "id": "YWHXz_-NNV8P"
      },
      "execution_count": 89,
      "outputs": []
    },
    {
      "cell_type": "code",
      "source": [
        "def relink_cycles():\n",
        "\n",
        "    for here,there in list( G.edges() ):\n",
        "\n",
        "        if there[2]==0.5:\n",
        "\n",
        "            if G.has_node( there ): G.remove_node( there )\n",
        "            G.add_edge( here, ( there[0], there[1], (-1)*here[2]+1 ) )"
      ],
      "metadata": {
        "id": "SRXUR-Ix-e4h"
      },
      "execution_count": 90,
      "outputs": []
    },
    {
      "cell_type": "markdown",
      "source": [
        "## compute_end_values(state):"
      ],
      "metadata": {
        "id": "_yIY3vgTu4FH"
      }
    },
    {
      "cell_type": "code",
      "source": [
        "def compute_end_values( state ):\n",
        "\n",
        "    if state in end_values: return end_values[state]\n",
        "\n",
        "    successors = list(G.successors(state))\n",
        "\n",
        "    if not successors:\n",
        "        value = state[2]\n",
        "        end_values[state] = value\n",
        "        return value\n",
        "\n",
        "    child_values = list()\n",
        "    for child in successors:\n",
        "        child_values.append(compute_end_values( child ))\n",
        "\n",
        "    value = max( child_values )*(not state[2]) + min( child_values )*state[2]\n",
        "\n",
        "    end_values[state] = value\n",
        "    return value"
      ],
      "metadata": {
        "id": "QzCHJ5gXOTj9"
      },
      "execution_count": 91,
      "outputs": []
    },
    {
      "cell_type": "code",
      "source": [
        "def make_weighted():\n",
        "\n",
        "    for u,v in G.edges():\n",
        "\n",
        "        G[u][v]['weight'] = compute_end_values( v )"
      ],
      "metadata": {
        "id": "oEP4MUh1QZX9"
      },
      "execution_count": 92,
      "outputs": []
    },
    {
      "cell_type": "code",
      "source": [],
      "metadata": {
        "id": "85YWNSq1SW8S"
      },
      "execution_count": 92,
      "outputs": []
    },
    {
      "cell_type": "markdown",
      "source": [
        "## get_next_states(state):"
      ],
      "metadata": {
        "id": "7be7uR7Vurgp"
      }
    },
    {
      "cell_type": "code",
      "source": [
        "def get_next_states(state):\n",
        "\n",
        "    a, b, turn = state\n",
        "    current, opponent = (a, b) if turn == 0 else (b, a)\n",
        "\n",
        "    next_states = set()\n",
        "\n",
        "    for i in range(2):\n",
        "        if current[i] == 0:\n",
        "            continue\n",
        "\n",
        "        for j in range(2):\n",
        "            if opponent[j] == 0:\n",
        "                continue\n",
        "\n",
        "            # Copy opponent's hands and apply tap (add fingers mod 3)\n",
        "            new_opp = list(opponent)\n",
        "            new_opp[j] = (new_opp[j] + current[i]) % MOD\n",
        "\n",
        "            new_current = list(current)  # Current player's hand remains the same\n",
        "\n",
        "            # Rebuild new state: normalize both hands and switch turn\n",
        "            if turn == 0:\n",
        "                # After Player A's move, it's Player B's turn\n",
        "                new_state = normalize(tuple(new_current), tuple(new_opp)) + (1,)\n",
        "            else:\n",
        "                # After Player B's move, it's Player A's turn\n",
        "                new_state = normalize(tuple(new_opp), tuple(new_current)) + (0,)\n",
        "\n",
        "            ##next_states.append(new_state)\n",
        "            next_states.add(new_state)\n",
        "\n",
        "    return next_states"
      ],
      "metadata": {
        "id": "4oju5Mf8NaiI"
      },
      "execution_count": 93,
      "outputs": []
    },
    {
      "cell_type": "markdown",
      "source": [
        "## get_distance_to_end_states(end_states):"
      ],
      "metadata": {
        "id": "Oe3uemuAuukN"
      }
    },
    {
      "cell_type": "code",
      "source": [
        "def get_distance_to_end_states(G, end_states):\n",
        "    G_rev = G.reverse()\n",
        "    distance = {}\n",
        "\n",
        "    for end in end_states:\n",
        "        sp_lengths = nx.single_source_shortest_path_length(G_rev, end)\n",
        "        for node, dist in sp_lengths.items():\n",
        "            if node not in distance or dist < distance[node]:\n",
        "                distance[node] = dist\n",
        "\n",
        "    return distance"
      ],
      "metadata": {
        "id": "IKvFp03iWHxc"
      },
      "execution_count": 94,
      "outputs": []
    },
    {
      "cell_type": "markdown",
      "source": [
        "## LAYOUTS"
      ],
      "metadata": {
        "id": "TFegsnCYu0dI"
      }
    },
    {
      "cell_type": "code",
      "source": [
        "def get_quadrant_spring_layout(G, end_states):\n",
        "    # Step 1: Group nodes into 4 quadrants\n",
        "    quadrants = {\n",
        "        (0, 0): [],  # end_state, turn=0 → top-left\n",
        "        (0, 1): [],  # end_state, turn=1 → top-right\n",
        "        (1, 0): [],  # normal_state, turn=0 → bottom-left\n",
        "        (1, 1): []   # normal_state, turn=1 → bottom-right\n",
        "    }\n",
        "\n",
        "    for node in G.nodes:\n",
        "        is_normal = 1 if node not in end_states else 0\n",
        "        turn = node[2]\n",
        "        left = 1 if turn==is_normal else 0\n",
        "        quadrants[( left , turn )].append(node)\n",
        "\n",
        "    pos = {}\n",
        "    quadrant_offset = {\n",
        "        (0, 0): (-1, 1),  # top-left\n",
        "        (0, 1): (1, 1),   # top-right\n",
        "        (1, 0): (-1, -1), # bottom-left\n",
        "        (1, 1): (1, -1),  # bottom-right\n",
        "    }\n",
        "\n",
        "    for key, nodes in quadrants.items():\n",
        "        subG = G.subgraph(nodes)\n",
        "        local_pos = nx.spiral_layout(subG)  # stable layout per quadrant\n",
        "        offset_x, offset_y = quadrant_offset[key]\n",
        "\n",
        "        for node, (x, y) in local_pos.items():\n",
        "            pos[node] = (x + offset_x, y + offset_y)\n",
        "\n",
        "    return pos"
      ],
      "metadata": {
        "id": "X1rt8MuOWzaB"
      },
      "execution_count": 95,
      "outputs": []
    },
    {
      "cell_type": "code",
      "source": [
        "def get_bipartite_by_zero_count_layout(G):\n",
        "    # Group nodes by (zero_count, turn)\n",
        "    groups = {}\n",
        "    for node in G.nodes:\n",
        "        a, b, turn = node\n",
        "        num_zeros = [a[0], a[1], b[0], b[1]].count(0)\n",
        "        key = (num_zeros, turn)\n",
        "        groups.setdefault(key, []).append(node)\n",
        "\n",
        "    pos = {}\n",
        "    spacing = 10  # horizontal spacing\n",
        "    for (zero_count, turn), nodes in sorted(groups.items()):\n",
        "        y = 1 if turn == 0 else 0  # bipartite y-position\n",
        "        x_start = zero_count * spacing  # grouped by zero count\n",
        "        for i, node in enumerate(sorted(nodes)):\n",
        "            x = x_start + i * 1.6  # spread within group\n",
        "            pos[node] = (x, y)\n",
        "\n",
        "    return pos"
      ],
      "metadata": {
        "id": "fxNidy1LezB1"
      },
      "execution_count": 96,
      "outputs": []
    },
    {
      "cell_type": "code",
      "source": [
        "def get_zero_count_bipartite_spring_layout(G, end_states):\n",
        "    from collections import defaultdict\n",
        "\n",
        "    pos = {}\n",
        "    # Structure: buckets[(zero_count, turn)] = list of nodes\n",
        "    buckets = defaultdict(list)\n",
        "    end_nodes = []\n",
        "\n",
        "    # Categorize nodes\n",
        "    for node in G.nodes:\n",
        "        a, b, turn = node\n",
        "        if node in end_states:\n",
        "            end_nodes.append(node)\n",
        "        else:\n",
        "            total_zeros = [a[0], a[1], b[0], b[1]].count(0)\n",
        "            zero_class = min(total_zeros, 2)\n",
        "            buckets[(zero_class, turn)].append(node)\n",
        "\n",
        "    # Layout end states in top row\n",
        "    spacing = 2.0\n",
        "    for i, node in enumerate(sorted(end_nodes)):\n",
        "        x = i * spacing\n",
        "        y = 2\n",
        "        pos[node] = (x, y)\n",
        "\n",
        "    # Layout each (zero_class, turn) subgroup\n",
        "    base_x_offsets = {0: 0, 1: 30, 2: 60}  # space between zero classes\n",
        "    x_sub_offset = {0: -20, 1: +20}          # left/right for turn 0/1\n",
        "    y_base = 0\n",
        "\n",
        "    for (zero_class, turn), nodes in buckets.items():\n",
        "        if not nodes:\n",
        "            continue\n",
        "        subG = G.subgraph(nodes)\n",
        "        local_pos = nx.spring_layout(subG, seed=100)  # or use planar_layout()\n",
        "\n",
        "        offset_x = base_x_offsets[zero_class] + x_sub_offset[turn]\n",
        "        offset_y = y_base - zero_class * 8  # stack classes vertically\n",
        "\n",
        "        for node, (x, y) in local_pos.items():\n",
        "            pos[node] = (x * 8 + offset_x, y * 4 + offset_y)\n",
        "\n",
        "    return pos"
      ],
      "metadata": {
        "id": "WIrxRsuofxqz"
      },
      "execution_count": 97,
      "outputs": []
    },
    {
      "cell_type": "markdown",
      "source": [
        "## MAIN"
      ],
      "metadata": {
        "id": "I8F5IL94u-eF"
      }
    },
    {
      "cell_type": "code",
      "source": [
        "map_states( start_state, start_nodes, include_cycles=True )\n",
        "compute_end_values( start_state )\n",
        "\n",
        "# longest_path = list( nx.dag_longest_path( G ) )\n",
        "# shortest_path = list( nx.shortest_path( G, source=start_state ) )\n",
        "\n",
        "done=False\n",
        "\n",
        "while not done:\n",
        "\n",
        "    done = True\n",
        "\n",
        "    for node in list( G.nodes ):\n",
        "\n",
        "        if node not in end_values:\n",
        "\n",
        "            calculable = True\n",
        "            for child in list( G.successors( node ) ):\n",
        "                calculable = calculable and (child in end_values)\n",
        "\n",
        "            if calculable:\n",
        "                compute_end_values( node )\n",
        "                done = False\n",
        "\n",
        "relink_cycles()\n",
        "cycles = list( nx.simple_cycles( G ) )\n",
        "\n",
        "print( \"NO CYCLES: \"+str(nx.is_directed_acyclic_graph( G )) )\n",
        "make_weighted()\n",
        "\n",
        "norm = mcolors.Normalize(vmin=0, vmax=1)\n",
        "cmap = cm.bwr\n",
        "\n",
        "edge_weights = [G[u][v]['weight'] for u, v in G.edges()]\n",
        "edge_colors = [cmap(norm(w)) for w in edge_weights]\n",
        "node_colors = [cmap(norm(end_values[node])) if node in end_values else \"gray\" for node in G.nodes]\n",
        "\n",
        "\n",
        "\n",
        "\n",
        "\n",
        "\n",
        "\n",
        "labels = {node: str(node[0])+\"\\n\"+str(node[1])+\"\\n\"+str(node[2]) for node in G.nodes}\n",
        "\n",
        "H = G.reverse()\n",
        "\n",
        "pos = nx.bfs_layout( G, start_state )\n",
        "# pos = nx.arf_layout( G )\n",
        "\n",
        "\n",
        "\n",
        "# path = nx.shortest_path(G, source=((1, 3),(1,3),0), target=((1, 3),(1,3),0))\n",
        "\n",
        "# shortest_cycle = min( cycles, key=len )\n",
        "# longest_cycle = max( cycles, key=len )\n",
        "\n",
        "# shortest_cycle_edges = list(zip(shortest_cycle[:-1], shortest_cycle[1:]))\n",
        "# shortest_cycle_edges.append((shortest_cycle[-1], shortest_cycle[0]))\n",
        "\n",
        "# longest_cycle_edges = list(zip(longest_cycle[:-1], longest_cycle[1:]))\n",
        "# longest_cycle_edges.append((longest_cycle[-1], longest_cycle[0]))\n",
        "\n",
        "\n",
        "# longest_path_edges = list(zip(longest_path[:-1], longest_path[1:]))\n",
        "\n",
        "# shortest_path_edges = list(zip(shortest_path[:-1], shortest_path[1:]))\n",
        "\n",
        "for node, (x, y) in pos.items():\n",
        "        pos[node] = (y, -x)\n",
        "\n",
        "# Draw graph\n",
        "plt.figure(figsize=(50, 28))\n",
        "nx.draw(\n",
        "    G, pos,\n",
        "    node_color=node_colors,\n",
        "    edge_color=edge_colors,\n",
        "    node_size=500,\n",
        "    arrows=True\n",
        ")\n",
        "\n",
        "\n",
        "nx.draw_networkx_labels(G, pos, labels=labels, font_size=6)\n",
        "# nx.draw_networkx_edges(G, pos, edgelist=longest_cycle_edges, edge_color='blue', width=10, arrows=True)\n",
        "# nx.draw_networkx_edges(G, pos, edgelist=shortest_cycle_edges, edge_color='red', width=5, arrows=True)\n",
        "\n",
        "\n",
        "plt.title(\"Longest and Shortest Cycles on Mod \"+str(MOD))\n",
        "plt.axis('off')\n",
        "plt.show()"
      ],
      "metadata": {
        "id": "jWW2bYO9NafG"
      },
      "execution_count": null,
      "outputs": []
    }
  ]
}